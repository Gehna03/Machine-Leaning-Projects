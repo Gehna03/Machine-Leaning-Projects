{
 "cells": [
  {
   "cell_type": "code",
   "execution_count": 1,
   "id": "5c88331c",
   "metadata": {},
   "outputs": [],
   "source": [
    "import numpy as np\n",
    "import matplotlib.pyplot as plt\n",
    "import pandas as pd"
   ]
  },
  {
   "cell_type": "code",
   "execution_count": 2,
   "id": "d2ec3a57",
   "metadata": {},
   "outputs": [],
   "source": [
    "file=pd.read_csv('data/prices-split-adjusted.csv')"
   ]
  },
  {
   "cell_type": "code",
   "execution_count": 3,
   "id": "eae10df8",
   "metadata": {},
   "outputs": [
    {
     "data": {
      "text/html": [
       "<div>\n",
       "<style scoped>\n",
       "    .dataframe tbody tr th:only-of-type {\n",
       "        vertical-align: middle;\n",
       "    }\n",
       "\n",
       "    .dataframe tbody tr th {\n",
       "        vertical-align: top;\n",
       "    }\n",
       "\n",
       "    .dataframe thead th {\n",
       "        text-align: right;\n",
       "    }\n",
       "</style>\n",
       "<table border=\"1\" class=\"dataframe\">\n",
       "  <thead>\n",
       "    <tr style=\"text-align: right;\">\n",
       "      <th></th>\n",
       "      <th>date</th>\n",
       "      <th>symbol</th>\n",
       "      <th>open</th>\n",
       "      <th>close</th>\n",
       "      <th>low</th>\n",
       "      <th>high</th>\n",
       "      <th>volume</th>\n",
       "    </tr>\n",
       "  </thead>\n",
       "  <tbody>\n",
       "    <tr>\n",
       "      <th>0</th>\n",
       "      <td>2016-01-05</td>\n",
       "      <td>WLTW</td>\n",
       "      <td>123.430000</td>\n",
       "      <td>125.839996</td>\n",
       "      <td>122.309998</td>\n",
       "      <td>126.250000</td>\n",
       "      <td>2163600.0</td>\n",
       "    </tr>\n",
       "    <tr>\n",
       "      <th>1</th>\n",
       "      <td>2016-01-06</td>\n",
       "      <td>WLTW</td>\n",
       "      <td>125.239998</td>\n",
       "      <td>119.980003</td>\n",
       "      <td>119.940002</td>\n",
       "      <td>125.540001</td>\n",
       "      <td>2386400.0</td>\n",
       "    </tr>\n",
       "    <tr>\n",
       "      <th>2</th>\n",
       "      <td>2016-01-07</td>\n",
       "      <td>WLTW</td>\n",
       "      <td>116.379997</td>\n",
       "      <td>114.949997</td>\n",
       "      <td>114.930000</td>\n",
       "      <td>119.739998</td>\n",
       "      <td>2489500.0</td>\n",
       "    </tr>\n",
       "    <tr>\n",
       "      <th>3</th>\n",
       "      <td>2016-01-08</td>\n",
       "      <td>WLTW</td>\n",
       "      <td>115.480003</td>\n",
       "      <td>116.620003</td>\n",
       "      <td>113.500000</td>\n",
       "      <td>117.440002</td>\n",
       "      <td>2006300.0</td>\n",
       "    </tr>\n",
       "    <tr>\n",
       "      <th>4</th>\n",
       "      <td>2016-01-11</td>\n",
       "      <td>WLTW</td>\n",
       "      <td>117.010002</td>\n",
       "      <td>114.970001</td>\n",
       "      <td>114.089996</td>\n",
       "      <td>117.330002</td>\n",
       "      <td>1408600.0</td>\n",
       "    </tr>\n",
       "    <tr>\n",
       "      <th>...</th>\n",
       "      <td>...</td>\n",
       "      <td>...</td>\n",
       "      <td>...</td>\n",
       "      <td>...</td>\n",
       "      <td>...</td>\n",
       "      <td>...</td>\n",
       "      <td>...</td>\n",
       "    </tr>\n",
       "    <tr>\n",
       "      <th>851259</th>\n",
       "      <td>2016-12-30</td>\n",
       "      <td>ZBH</td>\n",
       "      <td>103.309998</td>\n",
       "      <td>103.199997</td>\n",
       "      <td>102.849998</td>\n",
       "      <td>103.930000</td>\n",
       "      <td>973800.0</td>\n",
       "    </tr>\n",
       "    <tr>\n",
       "      <th>851260</th>\n",
       "      <td>2016-12-30</td>\n",
       "      <td>ZION</td>\n",
       "      <td>43.070000</td>\n",
       "      <td>43.040001</td>\n",
       "      <td>42.689999</td>\n",
       "      <td>43.310001</td>\n",
       "      <td>1938100.0</td>\n",
       "    </tr>\n",
       "    <tr>\n",
       "      <th>851261</th>\n",
       "      <td>2016-12-30</td>\n",
       "      <td>ZTS</td>\n",
       "      <td>53.639999</td>\n",
       "      <td>53.529999</td>\n",
       "      <td>53.270000</td>\n",
       "      <td>53.740002</td>\n",
       "      <td>1701200.0</td>\n",
       "    </tr>\n",
       "    <tr>\n",
       "      <th>851262</th>\n",
       "      <td>2016-12-30</td>\n",
       "      <td>AIV</td>\n",
       "      <td>44.730000</td>\n",
       "      <td>45.450001</td>\n",
       "      <td>44.410000</td>\n",
       "      <td>45.590000</td>\n",
       "      <td>1380900.0</td>\n",
       "    </tr>\n",
       "    <tr>\n",
       "      <th>851263</th>\n",
       "      <td>2016-12-30</td>\n",
       "      <td>FTV</td>\n",
       "      <td>54.200001</td>\n",
       "      <td>53.630001</td>\n",
       "      <td>53.389999</td>\n",
       "      <td>54.480000</td>\n",
       "      <td>705100.0</td>\n",
       "    </tr>\n",
       "  </tbody>\n",
       "</table>\n",
       "<p>851264 rows × 7 columns</p>\n",
       "</div>"
      ],
      "text/plain": [
       "              date symbol        open       close         low        high  \\\n",
       "0       2016-01-05   WLTW  123.430000  125.839996  122.309998  126.250000   \n",
       "1       2016-01-06   WLTW  125.239998  119.980003  119.940002  125.540001   \n",
       "2       2016-01-07   WLTW  116.379997  114.949997  114.930000  119.739998   \n",
       "3       2016-01-08   WLTW  115.480003  116.620003  113.500000  117.440002   \n",
       "4       2016-01-11   WLTW  117.010002  114.970001  114.089996  117.330002   \n",
       "...            ...    ...         ...         ...         ...         ...   \n",
       "851259  2016-12-30    ZBH  103.309998  103.199997  102.849998  103.930000   \n",
       "851260  2016-12-30   ZION   43.070000   43.040001   42.689999   43.310001   \n",
       "851261  2016-12-30    ZTS   53.639999   53.529999   53.270000   53.740002   \n",
       "851262  2016-12-30    AIV   44.730000   45.450001   44.410000   45.590000   \n",
       "851263  2016-12-30    FTV   54.200001   53.630001   53.389999   54.480000   \n",
       "\n",
       "           volume  \n",
       "0       2163600.0  \n",
       "1       2386400.0  \n",
       "2       2489500.0  \n",
       "3       2006300.0  \n",
       "4       1408600.0  \n",
       "...           ...  \n",
       "851259   973800.0  \n",
       "851260  1938100.0  \n",
       "851261  1701200.0  \n",
       "851262  1380900.0  \n",
       "851263   705100.0  \n",
       "\n",
       "[851264 rows x 7 columns]"
      ]
     },
     "execution_count": 3,
     "metadata": {},
     "output_type": "execute_result"
    }
   ],
   "source": [
    "file"
   ]
  },
  {
   "cell_type": "markdown",
   "id": "9f1abf3d",
   "metadata": {},
   "source": [
    "# Cleaning Data"
   ]
  },
  {
   "cell_type": "code",
   "execution_count": 4,
   "id": "a08226de",
   "metadata": {},
   "outputs": [],
   "source": [
    "df=file.drop(columns=['date'])\n",
    "features=file[['open','low','high','volume']]\n",
    "target=file['close']"
   ]
  },
  {
   "cell_type": "code",
   "execution_count": 5,
   "id": "05407009",
   "metadata": {},
   "outputs": [
    {
     "data": {
      "text/plain": [
       "(851264, 7)"
      ]
     },
     "execution_count": 5,
     "metadata": {},
     "output_type": "execute_result"
    }
   ],
   "source": [
    "file.shape"
   ]
  },
  {
   "cell_type": "code",
   "execution_count": 6,
   "id": "60e74571",
   "metadata": {},
   "outputs": [
    {
     "data": {
      "text/plain": [
       "(851264,)"
      ]
     },
     "execution_count": 6,
     "metadata": {},
     "output_type": "execute_result"
    }
   ],
   "source": [
    "target.shape"
   ]
  },
  {
   "cell_type": "code",
   "execution_count": 7,
   "id": "8448016f",
   "metadata": {},
   "outputs": [
    {
     "data": {
      "text/plain": [
       "(851264, 4)"
      ]
     },
     "execution_count": 7,
     "metadata": {},
     "output_type": "execute_result"
    }
   ],
   "source": [
    "features.shape"
   ]
  },
  {
   "cell_type": "code",
   "execution_count": 8,
   "id": "9eb33817",
   "metadata": {},
   "outputs": [],
   "source": [
    "u=np.mean(features, axis=0)\n",
    "std=np.std(features, axis=0)"
   ]
  },
  {
   "cell_type": "code",
   "execution_count": 9,
   "id": "4a498ee0",
   "metadata": {},
   "outputs": [
    {
     "data": {
      "text/plain": [
       "(4,)"
      ]
     },
     "execution_count": 9,
     "metadata": {},
     "output_type": "execute_result"
    }
   ],
   "source": [
    "u.shape"
   ]
  },
  {
   "cell_type": "code",
   "execution_count": 10,
   "id": "64314f2a",
   "metadata": {},
   "outputs": [
    {
     "data": {
      "text/plain": [
       "open      7.520385e+01\n",
       "low       7.445947e+01\n",
       "high      7.590682e+01\n",
       "volume    1.249467e+07\n",
       "dtype: float64"
      ]
     },
     "execution_count": 10,
     "metadata": {},
     "output_type": "execute_result"
    }
   ],
   "source": [
    "std"
   ]
  },
  {
   "cell_type": "code",
   "execution_count": 11,
   "id": "7796ad62",
   "metadata": {},
   "outputs": [],
   "source": [
    "features=(features-u)/std"
   ]
  },
  {
   "cell_type": "code",
   "execution_count": 12,
   "id": "18887d97",
   "metadata": {},
   "outputs": [],
   "source": [
    "ones=np.ones((features.shape[0],1))"
   ]
  },
  {
   "cell_type": "code",
   "execution_count": 13,
   "id": "bc53351b",
   "metadata": {},
   "outputs": [],
   "source": [
    "features=np.hstack((ones,features))"
   ]
  },
  {
   "cell_type": "code",
   "execution_count": 14,
   "id": "5cc1235d",
   "metadata": {},
   "outputs": [
    {
     "data": {
      "text/plain": [
       "(851264, 5)"
      ]
     },
     "execution_count": 14,
     "metadata": {},
     "output_type": "execute_result"
    }
   ],
   "source": [
    "features.shape"
   ]
  },
  {
   "cell_type": "markdown",
   "id": "f504730f",
   "metadata": {},
   "source": [
    "# Model Training"
   ]
  },
  {
   "cell_type": "code",
   "execution_count": 15,
   "id": "b34afc33",
   "metadata": {},
   "outputs": [],
   "source": [
    "split=0.8\n",
    "x_train=features[:int(features.shape[0]*split),:]\n",
    "y_train=target[:int(target.shape[0]*split)]\n",
    "\n",
    "x_test=features[int(features.shape[0]*split):,:]\n",
    "y_test=target[int(target.shape[0]*split):]"
   ]
  },
  {
   "cell_type": "code",
   "execution_count": 16,
   "id": "787e801a",
   "metadata": {},
   "outputs": [
    {
     "data": {
      "text/plain": [
       "((681011, 5), (170253, 5), (681011,), (170253,))"
      ]
     },
     "execution_count": 16,
     "metadata": {},
     "output_type": "execute_result"
    }
   ],
   "source": [
    "x_train.shape,x_test.shape,y_train.shape,y_test.shape"
   ]
  },
  {
   "cell_type": "code",
   "execution_count": 17,
   "id": "ac67290b",
   "metadata": {},
   "outputs": [],
   "source": [
    "def hypothesis(x,weights):\n",
    "    return np.dot(x,weights)"
   ]
  },
  {
   "cell_type": "code",
   "execution_count": 18,
   "id": "94b5d47d",
   "metadata": {},
   "outputs": [],
   "source": [
    "def loss_function(x,y,weights):\n",
    "    pred=hypothesis(x,weights)\n",
    "    loss=np.sum((pred-y)**2)\n",
    "    return loss/x.shape[0]"
   ]
  },
  {
   "cell_type": "code",
   "execution_count": 19,
   "id": "ab5627fd",
   "metadata": {},
   "outputs": [],
   "source": [
    "def gradient(x,y,weights):\n",
    "    pred=hypothesis(x,weights)\n",
    "    grad=np.dot((pred-y),x)\n",
    "    return grad/x.shape[0]"
   ]
  },
  {
   "cell_type": "code",
   "execution_count": 20,
   "id": "3424e383",
   "metadata": {},
   "outputs": [],
   "source": [
    "def gradient_descent(x,y):\n",
    "    weights=np.zeros((x.shape[1],))\n",
    "    epochs=10000\n",
    "    lr_rate=0.03\n",
    "    list_loss=[]\n",
    "    \n",
    "    for i in range (epochs):\n",
    "        grad=gradient(x,y,weights)\n",
    "        list_loss.append(loss_function(x,y,weights))\n",
    "        print(f'On:{i}',end='\\r')\n",
    "        weights=weights-(lr_rate*grad)\n",
    "    return weights,list_loss"
   ]
  },
  {
   "cell_type": "code",
   "execution_count": 21,
   "id": "9cdfbda2",
   "metadata": {},
   "outputs": [
    {
     "name": "stdout",
     "output_type": "stream",
     "text": [
      "On:9999\r"
     ]
    }
   ],
   "source": [
    "weights,list_loss=gradient_descent(x_train,y_train)"
   ]
  },
  {
   "cell_type": "markdown",
   "id": "bdb14d67",
   "metadata": {},
   "source": [
    "# Loss Visualization "
   ]
  },
  {
   "cell_type": "code",
   "execution_count": 22,
   "id": "01bff1c4",
   "metadata": {},
   "outputs": [
    {
     "data": {
      "text/plain": [
       "0.6470057967822018"
      ]
     },
     "execution_count": 22,
     "metadata": {},
     "output_type": "execute_result"
    }
   ],
   "source": [
    "list_loss[-1]"
   ]
  },
  {
   "cell_type": "code",
   "execution_count": 23,
   "id": "4817245a",
   "metadata": {},
   "outputs": [
    {
     "data": {
      "text/plain": [
       "[<matplotlib.lines.Line2D at 0x2039031a790>]"
      ]
     },
     "execution_count": 23,
     "metadata": {},
     "output_type": "execute_result"
    },
    {
     "data": {
      "image/png": "[encoded data removed]",
      "text/plain": [
       "<Figure size 640x480 with 1 Axes>"
      ]
     },
     "metadata": {},
     "output_type": "display_data"
    }
   ],
   "source": [
    "plt.plot(list_loss)"
   ]
  },
  {
   "cell_type": "code",
   "execution_count": 24,
   "id": "d6fee5c8",
   "metadata": {},
   "outputs": [],
   "source": [
    "pred=[]\n",
    "for i in range(x_test.shape[0]):\n",
    "    pred.append(hypothesis(x_test[i],weights))"
   ]
  },
  {
   "cell_type": "markdown",
   "id": "470de609",
   "metadata": {},
   "source": [
    "# Error Estimation "
   ]
  },
  {
   "cell_type": "code",
   "execution_count": 25,
   "id": "d461946c",
   "metadata": {},
   "outputs": [],
   "source": [
    "from sklearn import metrics"
   ]
  },
  {
   "cell_type": "code",
   "execution_count": 26,
   "id": "367138d6",
   "metadata": {},
   "outputs": [
    {
     "name": "stdout",
     "output_type": "stream",
     "text": [
      "MAE 0.5715814932832484\n",
      "MSE 0.5715814932832484\n",
      "RMSE 1.1684633656497256\n"
     ]
    }
   ],
   "source": [
    "print(\"MAE\",metrics.mean_absolute_error(y_test,pred))\n",
    "print(\"MSE\",metrics.mean_absolute_error(y_test,pred))\n",
    "print(\"RMSE\",metrics.mean_squared_error(y_test,pred)**0.5)"
   ]
  },
  {
   "cell_type": "code",
   "execution_count": null,
   "id": "063b566d",
   "metadata": {},
   "outputs": [],
   "source": []
  },
  {
   "cell_type": "code",
   "execution_count": null,
   "id": "b5019ab3",
   "metadata": {},
   "outputs": [],
   "source": []
  }
 ],
 "metadata": {
  "kernelspec": {
   "display_name": "Python 3 (ipykernel)",
   "language": "python",
   "name": "python3"
  },
  "language_info": {
   "codemirror_mode": {
    "name": "ipython",
    "version": 3
   },
   "file_extension": ".py",
   "mimetype": "text/x-python",
   "name": "python",
   "nbconvert_exporter": "python",
   "pygments_lexer": "ipython3",
   "version": "3.11.5"
  }
 },
 "nbformat": 4,
 "nbformat_minor": 5
}
